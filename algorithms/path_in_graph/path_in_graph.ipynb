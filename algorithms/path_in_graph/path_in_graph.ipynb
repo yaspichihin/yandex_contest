{
 "cells": [
  {
   "cell_type": "code",
   "execution_count": 31,
   "metadata": {},
   "outputs": [
    {
     "name": "stdout",
     "output_type": "stream",
     "text": [
      "-1\n"
     ]
    }
   ],
   "source": [
    "filename = \"path_in_graph_input_17.txt\"\n",
    "\n",
    "with open(filename, encoding=\"utf-8\") as src:\n",
    "    n = int(src.readline())\n",
    "    mtx_connectivity = [list(map(int, src.readline().split())) for _ in range(n)]\n",
    "    first_v, last_v = map(int, src.readline().split())\n",
    "\n",
    "length = len(mtx_connectivity)\n",
    "lst_connectivity = [[] for _ in range(n+1)]\n",
    "for i in range(length):\n",
    "    for j in range(i+1, length):\n",
    "        if mtx_connectivity[i][j] == 1:\n",
    "            lst_connectivity[i+1].append(j+1)\n",
    "            lst_connectivity[j+1].append(i+1)\n",
    "\n",
    "lengths = [[None, None]] * (length + 1)\n",
    "lengths[first_v] = [-1, 0]\n",
    "queue = [first_v]\n",
    "while queue:\n",
    "    cur_vertex = queue.pop(0)\n",
    "    for vertex in lst_connectivity[cur_vertex]:\n",
    "        prev, dist = lengths[vertex]\n",
    "        if prev is None:\n",
    "            lengths[vertex] = [cur_vertex, lengths[cur_vertex][1] + 1]\n",
    "            queue.append(vertex)\n",
    "\n",
    "print(lengths[last_v][1] if lengths[last_v][1] is not None else -1)\n",
    "\n",
    "if lengths[last_v][1] != 0 and lengths[last_v][0] is not None:\n",
    "    path = [last_v]\n",
    "    while lengths[last_v][0] != -1:\n",
    "        path.append(lengths[last_v][0])\n",
    "        last_v = lengths[last_v][0]\n",
    "\n",
    "    print(*path[::-1])"
   ]
  },
  {
   "cell_type": "code",
   "execution_count": 30,
   "metadata": {},
   "outputs": [
    {
     "data": {
      "text/plain": [
       "[None, None]"
      ]
     },
     "execution_count": 30,
     "metadata": {},
     "output_type": "execute_result"
    }
   ],
   "source": [
    "lengths[last_v]"
   ]
  },
  {
   "cell_type": "code",
   "execution_count": 4,
   "metadata": {},
   "outputs": [
    {
     "data": {
      "text/plain": [
       "[[],\n",
       " [2],\n",
       " [1, 4, 5, 7],\n",
       " [5, 9],\n",
       " [2, 7],\n",
       " [2, 3, 10],\n",
       " [7, 10],\n",
       " [2, 4, 6],\n",
       " [9],\n",
       " [3, 8],\n",
       " [5, 6]]"
      ]
     },
     "execution_count": 4,
     "metadata": {},
     "output_type": "execute_result"
    }
   ],
   "source": [
    "lst_connectivity"
   ]
  }
 ],
 "metadata": {
  "interpreter": {
   "hash": "ac59ebe37160ed0dfa835113d9b8498d9f09ceb179beaac4002f036b9467c963"
  },
  "kernelspec": {
   "display_name": "Python 3.9.9 64-bit",
   "language": "python",
   "name": "python3"
  },
  "language_info": {
   "codemirror_mode": {
    "name": "ipython",
    "version": 3
   },
   "file_extension": ".py",
   "mimetype": "text/x-python",
   "name": "python",
   "nbconvert_exporter": "python",
   "pygments_lexer": "ipython3",
   "version": "3.9.7"
  },
  "orig_nbformat": 4
 },
 "nbformat": 4,
 "nbformat_minor": 2
}
