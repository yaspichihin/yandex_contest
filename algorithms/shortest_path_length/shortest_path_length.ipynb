{
 "cells": [
  {
   "cell_type": "code",
   "execution_count": 47,
   "metadata": {},
   "outputs": [
    {
     "name": "stdout",
     "output_type": "stream",
     "text": [
      "3\n"
     ]
    }
   ],
   "source": [
    "filename = \"shortest_path_length_input_2.txt\"\n",
    "\n",
    "with open(filename, encoding=\"utf-8\") as src:\n",
    "    n = int(src.readline())\n",
    "    mtx_connectivity = [list(map(int, src.readline().split())) for _ in range(n)]\n",
    "    first_v, last_v = map(int, src.readline().split())\n",
    "\n",
    "length = len(mtx_connectivity)\n",
    "lst_connectivity = [[] for _ in range(n+1)]\n",
    "for i in range(length):\n",
    "    for j in range(i+1, length):\n",
    "        if mtx_connectivity[i][j] == 1:\n",
    "            lst_connectivity[i+1].append(j+1)\n",
    "            lst_connectivity[j+1].append(i+1)\n",
    "\n",
    "lengths = [None] * (length + 1)\n",
    "lengths[first_v] = 0\n",
    "queue = [first_v]\n",
    "while queue:\n",
    "    cur_vertex = queue.pop(0)\n",
    "    for vertex in lst_connectivity[cur_vertex]:\n",
    "        if lengths[vertex] is None:\n",
    "            lengths[vertex] = lengths[cur_vertex] + 1\n",
    "            queue.append(vertex)\n",
    "\n",
    "print(lengths[last_v] if lengths[last_v] is not None else -1)"
   ]
  },
  {
   "cell_type": "code",
   "execution_count": 44,
   "metadata": {},
   "outputs": [
    {
     "data": {
      "text/plain": [
       "0"
      ]
     },
     "execution_count": 44,
     "metadata": {},
     "output_type": "execute_result"
    }
   ],
   "source": [
    "lengths[last_v]"
   ]
  },
  {
   "cell_type": "code",
   "execution_count": 39,
   "metadata": {},
   "outputs": [
    {
     "data": {
      "text/plain": [
       "[[], [2, 5], [1, 3], [2], [], [1]]"
      ]
     },
     "execution_count": 39,
     "metadata": {},
     "output_type": "execute_result"
    }
   ],
   "source": [
    "lst_connectivity"
   ]
  },
  {
   "cell_type": "code",
   "execution_count": null,
   "metadata": {},
   "outputs": [],
   "source": [
    "\n",
    "Код:\n",
    "graph = [\n",
    "    # список смежности\n",
    "    [1, 3],         # Список вершин соседей для вершины 0\n",
    "    [0, 3, 4, 5],   # Список вершин соседей для вершины 1\n",
    "    [4, 5],         # Список вершин соседей для вершины 2\n",
    "    [0, 1, 5],      # Список вершин соседей для вершины 3\n",
    "    [1, 2],         # Список вершин соседей для вершины 4\n",
    "    [1, 2, 3],      # Список вершин соседей для вершины 5\n",
    "    [7],            # Список вершин соседей для вершины 6\n",
    "    [6]             # Список вершин соседей для вершины 7\n",
    "]\n",
    "\n",
    "start = 0\n",
    "lengths = [None] * (len(graph))\n",
    "lengths[start] = 0\n",
    "queue = [start]\n"
   ]
  },
  {
   "cell_type": "code",
   "execution_count": null,
   "metadata": {},
   "outputs": [],
   "source": [
    "while queue:\n",
    "    cur_vertex = queue.pop(0)\n",
    "    for vertex in graph[cur_vertex]:\n",
    "        if lengths[vertex] is None:\n",
    "            lengths[vertex] = lengths[cur_vertex] + 1\n",
    "            queue.append(vertex)\n",
    "\n",
    "print(lengths)  # [0, 1, 3, 1, 2, 2, None, None]\n"
   ]
  }
 ],
 "metadata": {
  "interpreter": {
   "hash": "ac59ebe37160ed0dfa835113d9b8498d9f09ceb179beaac4002f036b9467c963"
  },
  "kernelspec": {
   "display_name": "Python 3.9.9 64-bit",
   "language": "python",
   "name": "python3"
  },
  "language_info": {
   "codemirror_mode": {
    "name": "ipython",
    "version": 3
   },
   "file_extension": ".py",
   "mimetype": "text/x-python",
   "name": "python",
   "nbconvert_exporter": "python",
   "pygments_lexer": "ipython3",
   "version": "3.9.9"
  },
  "orig_nbformat": 4
 },
 "nbformat": 4,
 "nbformat_minor": 2
}
