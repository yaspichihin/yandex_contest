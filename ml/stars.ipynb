{
 "cells": [
  {
   "cell_type": "code",
   "execution_count": 1,
   "metadata": {},
   "outputs": [],
   "source": [
    "import numpy as np\n",
    "import pandas as pd\n",
    "\n",
    "from pathlib import Path\n",
    "import matplotlib.pyplot as plt\n",
    "from matplotlib import cm\n",
    "\n",
    "from tqdm.notebook import tqdm\n",
    "\n",
    "from sklearn.metrics import silhouette_samples\n",
    "from sklearn.preprocessing import StandardScaler\n",
    "from sklearn.decomposition import PCA\n",
    "from sklearn.cluster import AgglomerativeClustering, KMeans, DBSCAN\n",
    "\n",
    "\n",
    "import keras.utils as image\n",
    "# from keras.applications.vgg16 import VGG16\n",
    "# from keras.applications.vgg16 import preprocess_input\n",
    "from keras.applications.efficientnet import EfficientNetB7\n",
    "from keras.applications.efficientnet import preprocess_input"
   ]
  },
  {
   "cell_type": "code",
   "execution_count": 2,
   "metadata": {},
   "outputs": [],
   "source": [
    "DATASET = Path('f:/datasets/stars/')    # 9605 картинок\n",
    "\n",
    "# Создадим список путей до файлов изображений\n",
    "images = [pic.resolve() for pic in DATASET.glob(\"*\") if pic.suffix in ('.png', '.jpg', '.jpeg')]"
   ]
  },
  {
   "cell_type": "code",
   "execution_count": 31,
   "metadata": {},
   "outputs": [
    {
     "data": {
      "application/vnd.jupyter.widget-view+json": {
       "model_id": "4e29055689204d918666bd9e8c19b35e",
       "version_major": 2,
       "version_minor": 0
      },
      "text/plain": [
       "  0%|          | 0/9605 [00:00<?, ?it/s]"
      ]
     },
     "metadata": {},
     "output_type": "display_data"
    },
    {
     "name": "stdout",
     "output_type": "stream",
     "text": [
      "(1, 224, 224, 3)\n"
     ]
    }
   ],
   "source": [
    "# Переведем список путей изображений в список данных для нейронной сети\n",
    "for i in tqdm(range(len(images))):\n",
    "    img = images[i]\n",
    "    img = image.load_img(img, target_size=(256, 256))\n",
    "    img = img.resize((224, 224))\n",
    "    img_data = image.img_to_array(img)\n",
    "    img_data = np.expand_dims(img_data, axis=0)\n",
    "    img_data = preprocess_input(img_data)\n",
    "    images[i] = img_data\n",
    "\n",
    "print(images[0].shape)\n",
    "# (1, 224, 224, 3)"
   ]
  },
  {
   "cell_type": "code",
   "execution_count": 30,
   "metadata": {},
   "outputs": [
    {
     "name": "stdout",
     "output_type": "stream",
     "text": [
      "Downloading data from https://storage.googleapis.com/keras-applications/efficientnetb7_notop.h5\n",
      "258076736/258076736 [==============================] - 29s 0us/step\n"
     ]
    }
   ],
   "source": [
    "# Определим нейронную сеть для генерирования фич по данным изобоажения\n",
    "model = EfficientNetB7(weights='imagenet', include_top=False)"
   ]
  },
  {
   "cell_type": "code",
   "execution_count": 32,
   "metadata": {},
   "outputs": [
    {
     "data": {
      "application/vnd.jupyter.widget-view+json": {
       "model_id": "ac922b3537fb463294f27a54bd4a4b71",
       "version_major": 2,
       "version_minor": 0
      },
      "text/plain": [
       "  0%|          | 0/9605 [00:00<?, ?it/s]"
      ]
     },
     "metadata": {},
     "output_type": "display_data"
    }
   ],
   "source": [
    "# Генерирование фич по данным изобоажения\n",
    "net_feature_list = []\n",
    "for img in tqdm(images):\n",
    "    net_feature = model.predict(img, verbose=False)\n",
    "    net_feature_np = np.array(net_feature)\n",
    "    net_feature_list.append(net_feature_np.flatten())\n",
    "\n",
    "net_feature_list = np.array(net_feature_list)"
   ]
  },
  {
   "cell_type": "code",
   "execution_count": 33,
   "metadata": {},
   "outputs": [],
   "source": [
    "# Сохранение фич изображений, чтоб не ждать мин 40 в след раз\n",
    "with open('star_v5_224_effnetb7.npy', 'wb') as output_file:\n",
    "    np.save(output_file, net_feature_list)"
   ]
  },
  {
   "cell_type": "code",
   "execution_count": 34,
   "metadata": {},
   "outputs": [],
   "source": [
    "# Считывание фич изображений, чтоб не ждать мин 40 в след раз\n",
    "with open('star_v5_224_effnetb7.npy', 'rb') as input_file:\n",
    "    net_feature_list = np.load(input_file)"
   ]
  },
  {
   "cell_type": "code",
   "execution_count": 35,
   "metadata": {},
   "outputs": [],
   "source": [
    "# Нормализуем признаки\n",
    "sc = StandardScaler()\n",
    "net_feature_list_std = sc.fit_transform(net_feature_list)"
   ]
  },
  {
   "cell_type": "code",
   "execution_count": 36,
   "metadata": {},
   "outputs": [],
   "source": [
    "# Сократим размерность\n",
    "pca = PCA()\n",
    "net_feature_list_pca = pca.fit_transform(net_feature_list_std)"
   ]
  },
  {
   "cell_type": "code",
   "execution_count": 37,
   "metadata": {},
   "outputs": [
    {
     "name": "stdout",
     "output_type": "stream",
     "text": [
      "125440\n",
      "9605\n"
     ]
    }
   ],
   "source": [
    "print(net_feature_list_std[0].__len__())            # Базовая размерность 125440\n",
    "print(net_feature_list_pca[0].__len__())            # Понизили размерность до 9605"
   ]
  },
  {
   "cell_type": "code",
   "execution_count": 38,
   "metadata": {},
   "outputs": [],
   "source": [
    "# Сохранение фич изображений, чтоб не ждать мин 40 в след раз\n",
    "with open('star_v6_224_effnetb7_pca.npy', 'wb') as output_file:\n",
    "    np.save(output_file, net_feature_list_pca)"
   ]
  },
  {
   "cell_type": "code",
   "execution_count": 3,
   "metadata": {},
   "outputs": [],
   "source": [
    "# Считывание фич изображений, чтоб не ждать мин 40 в след раз\n",
    "with open('star_v6_224_effnetb7_pca.npy', 'rb') as input_file:\n",
    "    net_feature_list_pca = np.load(input_file)"
   ]
  },
  {
   "cell_type": "code",
   "execution_count": 40,
   "metadata": {},
   "outputs": [],
   "source": [
    "# Анализ на количество кластеров\n",
    "def cluster_analysis_kmean(lst, start, stop, step):\n",
    "    distortions = []\n",
    "\n",
    "    for i in tqdm(range(start, stop+1, step)):\n",
    "        model = KMeans(n_clusters=i,\n",
    "                       init='random',   # k-means++ долго работает\n",
    "                       n_init=2,\n",
    "                       max_iter=300,\n",
    "                       tol=1e-4,\n",
    "                       random_state=0)\n",
    "        model.fit(lst)\n",
    "        distortions.append(model.inertia_)\n",
    "\n",
    "    plt.figure(figsize=(15, 8))\n",
    "    plt.plot(range(start, stop+1, step), distortions, marker=\"o\")\n",
    "    plt.xlabel(\"Кол-во кластеров\")\n",
    "    plt.xticks(range(start, stop+1, step))\n",
    "    plt.ylabel(\"Искажений\")\n",
    "    plt.grid()\n",
    "    plt.show()"
   ]
  },
  {
   "cell_type": "code",
   "execution_count": 41,
   "metadata": {},
   "outputs": [
    {
     "data": {
      "application/vnd.jupyter.widget-view+json": {
       "model_id": "4780b0f411104306bb61b4ca8978a36e",
       "version_major": 2,
       "version_minor": 0
      },
      "text/plain": [
       "  0%|          | 0/50 [00:00<?, ?it/s]"
      ]
     },
     "metadata": {},
     "output_type": "display_data"
    },
    {
     "data": {
      "image/png": "[encoded data removed]",
      "text/plain": [
       "<Figure size 1080x576 with 1 Axes>"
      ]
     },
     "metadata": {
      "needs_background": "light"
     },
     "output_type": "display_data"
    }
   ],
   "source": [
    "# Исследуем методом локтя оптимальное кол-во кластеров\n",
    "cluster_analysis_kmean(net_feature_list_pca, 1, 50, 1)"
   ]
  },
  {
   "cell_type": "code",
   "execution_count": 4,
   "metadata": {},
   "outputs": [
    {
     "data": {
      "image/png": "[encoded data removed]",
      "text/plain": [
       "<Figure size 432x288 with 1 Axes>"
      ]
     },
     "metadata": {
      "needs_background": "light"
     },
     "output_type": "display_data"
    }
   ],
   "source": [
    "CLUSTERS = 20\n",
    "\n",
    "model = KMeans(n_clusters=CLUSTERS,\n",
    "               init='k-means++',\n",
    "               n_init=5,\n",
    "               max_iter=500,\n",
    "               tol=1e-4,\n",
    "               random_state=0,\n",
    "               algorithm='lloyd')\n",
    "\n",
    "preds = model.fit_predict(net_feature_list_pca)\n",
    "\n",
    "\n",
    "cluster_labels = np.unique(preds)\n",
    "silhouette_vals = silhouette_samples(net_feature_list_pca, preds, metric=\"euclidean\")\n",
    "\n",
    "y_ax_lower, y_ax_upper = 0, 0\n",
    "yticks = []\n",
    "for i, c in enumerate(cluster_labels):\n",
    "    c_silhouette_vals = silhouette_vals[preds==c]\n",
    "    c_silhouette_vals.sort()\n",
    "    y_ax_upper += len(c_silhouette_vals)\n",
    "    color = cm.jet(float(i) / CLUSTERS)\n",
    "    plt.barh(range(y_ax_lower, y_ax_upper),\n",
    "             c_silhouette_vals,\n",
    "             height=1.0,\n",
    "             edgecolor=\"none\",\n",
    "             color=color)\n",
    "    yticks.append((y_ax_lower + y_ax_upper)/2.)\n",
    "    y_ax_lower += len(c_silhouette_vals)\n",
    "\n",
    "silhouette_avg = np.mean(silhouette_vals)\n",
    "plt.axvline(silhouette_avg, color=\"red\", linestyle=\"--\")\n",
    "plt.yticks(yticks, cluster_labels + 1)\n",
    "plt.ylabel(\"Cluster\")\n",
    "plt.xlabel(\"Коэффициент силуэта\")\n",
    "plt.show()"
   ]
  },
  {
   "cell_type": "code",
   "execution_count": 5,
   "metadata": {},
   "outputs": [
    {
     "data": {
      "text/plain": [
       "10    1245\n",
       "4     1079\n",
       "3      931\n",
       "8      761\n",
       "11     725\n",
       "6      494\n",
       "7      478\n",
       "9      438\n",
       "5      371\n",
       "18     361\n",
       "13     345\n",
       "12     323\n",
       "2      303\n",
       "16     302\n",
       "15     283\n",
       "0      273\n",
       "17     268\n",
       "14     224\n",
       "19     223\n",
       "1      178\n",
       "Name: 0, dtype: int64"
      ]
     },
     "execution_count": 5,
     "metadata": {},
     "output_type": "execute_result"
    }
   ],
   "source": [
    "\n",
    "# Создадим список путей до файлов изображений\n",
    "images = [pic.resolve() for pic in DATASET.glob(\"*\") if pic.suffix in ('.png', '.jpg', '.jpeg')]\n",
    "df = pd.concat((pd.DataFrame(images), pd.DataFrame(preds)), axis=1)\n",
    "df.iloc[:, 1].value_counts()"
   ]
  },
  {
   "cell_type": "code",
   "execution_count": 9,
   "metadata": {},
   "outputs": [
    {
     "data": {
      "text/html": [
       "<div>\n",
       "<style scoped>\n",
       "    .dataframe tbody tr th:only-of-type {\n",
       "        vertical-align: middle;\n",
       "    }\n",
       "\n",
       "    .dataframe tbody tr th {\n",
       "        vertical-align: top;\n",
       "    }\n",
       "\n",
       "    .dataframe thead th {\n",
       "        text-align: right;\n",
       "    }\n",
       "</style>\n",
       "<table border=\"1\" class=\"dataframe\">\n",
       "  <thead>\n",
       "    <tr style=\"text-align: right;\">\n",
       "      <th></th>\n",
       "      <th>0</th>\n",
       "      <th>0</th>\n",
       "    </tr>\n",
       "  </thead>\n",
       "  <tbody>\n",
       "    <tr>\n",
       "      <th>6</th>\n",
       "      <td>F:\\datasets\\stars\\0006.png</td>\n",
       "      <td>4</td>\n",
       "    </tr>\n",
       "    <tr>\n",
       "      <th>10</th>\n",
       "      <td>F:\\datasets\\stars\\0010.png</td>\n",
       "      <td>4</td>\n",
       "    </tr>\n",
       "    <tr>\n",
       "      <th>34</th>\n",
       "      <td>F:\\datasets\\stars\\0034.png</td>\n",
       "      <td>4</td>\n",
       "    </tr>\n",
       "    <tr>\n",
       "      <th>45</th>\n",
       "      <td>F:\\datasets\\stars\\0045.png</td>\n",
       "      <td>4</td>\n",
       "    </tr>\n",
       "    <tr>\n",
       "      <th>49</th>\n",
       "      <td>F:\\datasets\\stars\\0049.png</td>\n",
       "      <td>4</td>\n",
       "    </tr>\n",
       "    <tr>\n",
       "      <th>52</th>\n",
       "      <td>F:\\datasets\\stars\\0052.png</td>\n",
       "      <td>4</td>\n",
       "    </tr>\n",
       "    <tr>\n",
       "      <th>59</th>\n",
       "      <td>F:\\datasets\\stars\\0059.png</td>\n",
       "      <td>4</td>\n",
       "    </tr>\n",
       "    <tr>\n",
       "      <th>64</th>\n",
       "      <td>F:\\datasets\\stars\\0064.png</td>\n",
       "      <td>4</td>\n",
       "    </tr>\n",
       "    <tr>\n",
       "      <th>68</th>\n",
       "      <td>F:\\datasets\\stars\\0068.png</td>\n",
       "      <td>4</td>\n",
       "    </tr>\n",
       "    <tr>\n",
       "      <th>75</th>\n",
       "      <td>F:\\datasets\\stars\\0075.png</td>\n",
       "      <td>4</td>\n",
       "    </tr>\n",
       "    <tr>\n",
       "      <th>86</th>\n",
       "      <td>F:\\datasets\\stars\\0086.png</td>\n",
       "      <td>4</td>\n",
       "    </tr>\n",
       "    <tr>\n",
       "      <th>109</th>\n",
       "      <td>F:\\datasets\\stars\\0109.png</td>\n",
       "      <td>4</td>\n",
       "    </tr>\n",
       "    <tr>\n",
       "      <th>127</th>\n",
       "      <td>F:\\datasets\\stars\\0127.png</td>\n",
       "      <td>4</td>\n",
       "    </tr>\n",
       "    <tr>\n",
       "      <th>143</th>\n",
       "      <td>F:\\datasets\\stars\\0143.png</td>\n",
       "      <td>4</td>\n",
       "    </tr>\n",
       "    <tr>\n",
       "      <th>147</th>\n",
       "      <td>F:\\datasets\\stars\\0147.png</td>\n",
       "      <td>4</td>\n",
       "    </tr>\n",
       "    <tr>\n",
       "      <th>160</th>\n",
       "      <td>F:\\datasets\\stars\\0160.png</td>\n",
       "      <td>4</td>\n",
       "    </tr>\n",
       "    <tr>\n",
       "      <th>163</th>\n",
       "      <td>F:\\datasets\\stars\\0163.png</td>\n",
       "      <td>4</td>\n",
       "    </tr>\n",
       "    <tr>\n",
       "      <th>177</th>\n",
       "      <td>F:\\datasets\\stars\\0177.png</td>\n",
       "      <td>4</td>\n",
       "    </tr>\n",
       "    <tr>\n",
       "      <th>182</th>\n",
       "      <td>F:\\datasets\\stars\\0182.png</td>\n",
       "      <td>4</td>\n",
       "    </tr>\n",
       "    <tr>\n",
       "      <th>194</th>\n",
       "      <td>F:\\datasets\\stars\\0194.png</td>\n",
       "      <td>4</td>\n",
       "    </tr>\n",
       "  </tbody>\n",
       "</table>\n",
       "</div>"
      ],
      "text/plain": [
       "                              0  0\n",
       "6    F:\\datasets\\stars\\0006.png  4\n",
       "10   F:\\datasets\\stars\\0010.png  4\n",
       "34   F:\\datasets\\stars\\0034.png  4\n",
       "45   F:\\datasets\\stars\\0045.png  4\n",
       "49   F:\\datasets\\stars\\0049.png  4\n",
       "52   F:\\datasets\\stars\\0052.png  4\n",
       "59   F:\\datasets\\stars\\0059.png  4\n",
       "64   F:\\datasets\\stars\\0064.png  4\n",
       "68   F:\\datasets\\stars\\0068.png  4\n",
       "75   F:\\datasets\\stars\\0075.png  4\n",
       "86   F:\\datasets\\stars\\0086.png  4\n",
       "109  F:\\datasets\\stars\\0109.png  4\n",
       "127  F:\\datasets\\stars\\0127.png  4\n",
       "143  F:\\datasets\\stars\\0143.png  4\n",
       "147  F:\\datasets\\stars\\0147.png  4\n",
       "160  F:\\datasets\\stars\\0160.png  4\n",
       "163  F:\\datasets\\stars\\0163.png  4\n",
       "177  F:\\datasets\\stars\\0177.png  4\n",
       "182  F:\\datasets\\stars\\0182.png  4\n",
       "194  F:\\datasets\\stars\\0194.png  4"
      ]
     },
     "execution_count": 9,
     "metadata": {},
     "output_type": "execute_result"
    }
   ],
   "source": [
    "df[df.iloc[:, 1] == 4].head(20)"
   ]
  },
  {
   "cell_type": "code",
   "execution_count": null,
   "metadata": {},
   "outputs": [],
   "source": []
  }
 ],
 "metadata": {
  "kernelspec": {
   "display_name": "base",
   "language": "python",
   "name": "python3"
  },
  "language_info": {
   "codemirror_mode": {
    "name": "ipython",
    "version": 3
   },
   "file_extension": ".py",
   "mimetype": "text/x-python",
   "name": "python",
   "nbconvert_exporter": "python",
   "pygments_lexer": "ipython3",
   "version": "3.9.7"
  },
  "orig_nbformat": 4,
  "vscode": {
   "interpreter": {
    "hash": "f486da5927a9d27589f9990493d6021c2c374b81d5cbffd643a16d26caabad0f"
   }
  }
 },
 "nbformat": 4,
 "nbformat_minor": 2
}
