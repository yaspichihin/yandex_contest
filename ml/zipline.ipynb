{
 "cells": [
  {
   "cell_type": "code",
   "execution_count": 30,
   "metadata": {},
   "outputs": [],
   "source": [
    "# Считаем данные\n",
    "with open('zipline_input.txt', encoding='utf-8') as input_file:\n",
    "    n, *heights = map(int, input_file.readline().strip().split())\n",
    "\n",
    "# Найдем самый высокий дом\n",
    "top = heights.index(max(heights))\n",
    "# Разделим здания на две части до небоскреба и после\n",
    "left, right = heights[:top+1], heights[top:][::-1]\n",
    "\n",
    "# Заведем список для вершин zipline\n",
    "zipline_heights = []\n",
    "\n",
    "# Напишем функцию для расчета высот zipline\n",
    "def get_heights(seq):\n",
    "    heights = []\n",
    "    heighest_build = 0\n",
    "    heighest_build_idx = 0\n",
    "    for i in range(len(seq)):\n",
    "        if seq[i] > heighest_build:\n",
    "            old_heighest = heighest_build\n",
    "            old_heighest_build_idx = heighest_build_idx\n",
    "            heighest_build = seq[i]\n",
    "            heighest_build_idx = i\n",
    "            heights.append(old_heighest - seq[old_heighest_build_idx + 1])\n",
    "    heights[0] = 0\n",
    "    return heights\n",
    "\n",
    "ans = max(get_heights(left) + get_heights(right))\n",
    "with open('zipline_output.txt', 'w', encoding='utf-8')as output_file:\n",
    "    output_file.write(str(ans))"
   ]
  }
 ],
 "metadata": {
  "kernelspec": {
   "display_name": "base",
   "language": "python",
   "name": "python3"
  },
  "language_info": {
   "name": "python",
   "version": "3.9.7"
  },
  "orig_nbformat": 4,
  "vscode": {
   "interpreter": {
    "hash": "f486da5927a9d27589f9990493d6021c2c374b81d5cbffd643a16d26caabad0f"
   }
  }
 },
 "nbformat": 4,
 "nbformat_minor": 2
}
